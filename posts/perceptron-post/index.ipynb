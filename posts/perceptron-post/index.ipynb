{
 "cells": [
  {
   "cell_type": "raw",
   "metadata": {},
   "source": [
    "---\n",
    "title: Perceptron Blog\n",
    "author: Manuel Fors\n",
    "date: '2024-03-22'\n",
    "categories: [csci415]\n",
    "description: \"This is an implementation of the Perceptron Algorithm\"\n",
    "format: html\n",
    "--- "
   ]
  },
  {
   "cell_type": "markdown",
   "metadata": {},
   "source": [
    "## Starting \n",
    "We are going to load in our algorithm from our perceptron.py!"
   ]
  },
  {
   "cell_type": "code",
   "execution_count": 11,
   "metadata": {},
   "outputs": [],
   "source": [
    "import torch \n",
    "import numpy as np\n",
    "torch.manual_seed(1234)\n",
    "\n",
    "def perceptron_data(n_points = 300, noise = 0.2, p_dims = 2):\n",
    "    \n",
    "    y = torch.arange(n_points) >= int(n_points/2)\n",
    "    X = y[:, None] + torch.normal(0.0, noise, size = (n_points,p_dims))\n",
    "    X = torch.cat((X, torch.ones((X.shape[0], 1))), 1)\n",
    "\n",
    "    # convert y from {0, 1} to {-1, 1}\n",
    "    y = 2*y - 1\n",
    "\n",
    "    return X, y\n",
    "\n",
    "X, y = perceptron_data(n_points = 300, noise = 0.2)"
   ]
  },
  {
   "cell_type": "code",
   "execution_count": 24,
   "metadata": {},
   "outputs": [
    {
     "name": "stdout",
     "output_type": "stream",
     "text": [
      "The autoreload extension is already loaded. To reload it, use:\n",
      "  %reload_ext autoreload\n"
     ]
    },
    {
     "ename": "RuntimeError",
     "evalue": "mat1 and mat2 shapes cannot be multiplied (50x3 and 1x3)",
     "output_type": "error",
     "traceback": [
      "\u001b[0;31m---------------------------------------------------------------------------\u001b[0m",
      "\u001b[0;31mRuntimeError\u001b[0m                              Traceback (most recent call last)",
      "\u001b[1;32m/home/manny/keeo8.github.io/posts/perceptron-post/index.ipynb Cell 4\u001b[0m line \u001b[0;36m2\n\u001b[1;32m     <a href='vscode-notebook-cell:/home/manny/keeo8.github.io/posts/perceptron-post/index.ipynb#W3sZmlsZQ%3D%3D?line=16'>17</a>\u001b[0m n \u001b[39m=\u001b[39m X\u001b[39m.\u001b[39msize()[\u001b[39m0\u001b[39m]\n\u001b[1;32m     <a href='vscode-notebook-cell:/home/manny/keeo8.github.io/posts/perceptron-post/index.ipynb#W3sZmlsZQ%3D%3D?line=18'>19</a>\u001b[0m \u001b[39mwhile\u001b[39;00m loss \u001b[39m>\u001b[39m \u001b[39m0\u001b[39m: \u001b[39m# dangerous -- only terminates if data is linearly separable\u001b[39;00m\n\u001b[1;32m     <a href='vscode-notebook-cell:/home/manny/keeo8.github.io/posts/perceptron-post/index.ipynb#W3sZmlsZQ%3D%3D?line=19'>20</a>\u001b[0m     \n\u001b[1;32m     <a href='vscode-notebook-cell:/home/manny/keeo8.github.io/posts/perceptron-post/index.ipynb#W3sZmlsZQ%3D%3D?line=20'>21</a>\u001b[0m     \u001b[39m# not part of the update: just for tracking our progress    \u001b[39;00m\n\u001b[0;32m---> <a href='vscode-notebook-cell:/home/manny/keeo8.github.io/posts/perceptron-post/index.ipynb#W3sZmlsZQ%3D%3D?line=21'>22</a>\u001b[0m     loss \u001b[39m=\u001b[39m p\u001b[39m.\u001b[39mloss(X, y) \n\u001b[1;32m     <a href='vscode-notebook-cell:/home/manny/keeo8.github.io/posts/perceptron-post/index.ipynb#W3sZmlsZQ%3D%3D?line=22'>23</a>\u001b[0m     loss_vec\u001b[39m.\u001b[39mappend(loss)\n\u001b[1;32m     <a href='vscode-notebook-cell:/home/manny/keeo8.github.io/posts/perceptron-post/index.ipynb#W3sZmlsZQ%3D%3D?line=24'>25</a>\u001b[0m     \u001b[39m# pick a random data point\u001b[39;00m\n",
      "File \u001b[0;32m~/keeo8.github.io/posts/perceptron-post/perceptron.py:65\u001b[0m, in \u001b[0;36mPerceptron.loss\u001b[0;34m(self, X, y)\u001b[0m\n\u001b[1;32m     49\u001b[0m \u001b[39mdef\u001b[39;00m \u001b[39mloss\u001b[39m(\u001b[39mself\u001b[39m, X, y):\n\u001b[1;32m     50\u001b[0m \u001b[39m    \u001b[39m\u001b[39m\"\"\"\u001b[39;00m\n\u001b[1;32m     51\u001b[0m \u001b[39m    Compute the misclassification rate. In the perceptron algorithm, the target vector y is assumed to have labels in {-1, 1}. A point i is classified correctly if its score s_i has the same sign as y_i. \u001b[39;00m\n\u001b[1;32m     52\u001b[0m \n\u001b[0;32m   (...)\u001b[0m\n\u001b[1;32m     63\u001b[0m \n\u001b[1;32m     64\u001b[0m \u001b[39m    \"\"\"\u001b[39;00m\n\u001b[0;32m---> 65\u001b[0m     s \u001b[39m=\u001b[39m \u001b[39mself\u001b[39m\u001b[39m.\u001b[39mscore(X) \n\u001b[1;32m     66\u001b[0m     updated \u001b[39m=\u001b[39m (s \u001b[39m*\u001b[39m y) \u001b[39m>\u001b[39m \u001b[39m0\u001b[39m\n\u001b[1;32m     67\u001b[0m     \u001b[39mreturn\u001b[39;00m updated\u001b[39m.\u001b[39mfloat()\u001b[39m.\u001b[39mmean()\n",
      "File \u001b[0;32m~/keeo8.github.io/posts/perceptron-post/perceptron.py:28\u001b[0m, in \u001b[0;36mLinearModel.score\u001b[0;34m(self, X)\u001b[0m\n\u001b[1;32m     25\u001b[0m \u001b[39mif\u001b[39;00m \u001b[39mself\u001b[39m\u001b[39m.\u001b[39mw \u001b[39mis\u001b[39;00m \u001b[39mNone\u001b[39;00m: \n\u001b[1;32m     26\u001b[0m     \u001b[39mself\u001b[39m\u001b[39m.\u001b[39mw \u001b[39m=\u001b[39m torch\u001b[39m.\u001b[39mrand((X\u001b[39m.\u001b[39msize()[\u001b[39m1\u001b[39m]))\n\u001b[0;32m---> 28\u001b[0m s \u001b[39m=\u001b[39m X\u001b[39m@self\u001b[39m\u001b[39m.\u001b[39mw\n\u001b[1;32m     29\u001b[0m \u001b[39mreturn\u001b[39;00m s\n",
      "\u001b[0;31mRuntimeError\u001b[0m: mat1 and mat2 shapes cannot be multiplied (50x3 and 1x3)"
     ]
    }
   ],
   "source": [
    "%load_ext autoreload\n",
    "%autoreload 2\n",
    "\n",
    "torch.manual_seed(1234)\n",
    "X, y = perceptron_data(n_points = 50, noise = 0.3)\n",
    "\n",
    "from perceptron import Perceptron, PerceptronOptimizer\n",
    "# instantiate a model and an optimizer\n",
    "p = Perceptron() \n",
    "opt = PerceptronOptimizer(p)\n",
    "\n",
    "loss = 1.0\n",
    "\n",
    "# for keeping track of loss values\n",
    "loss_vec = []\n",
    "\n",
    "n = X.size()[0]\n",
    "\n",
    "while loss > 0: # dangerous -- only terminates if data is linearly separable\n",
    "    \n",
    "    # not part of the update: just for tracking our progress    \n",
    "    loss = p.loss(X, y) \n",
    "    loss_vec.append(loss)\n",
    "    \n",
    "    # pick a random data point\n",
    "    i = torch.randint(n, size = (1,))\n",
    "    x_i = X[[i],:]\n",
    "    y_i = y[i]\n",
    "    \n",
    "    # perform a perceptron update using the random data point\n",
    "    opt.step(x_i, y_i)"
   ]
  },
  {
   "cell_type": "code",
   "execution_count": null,
   "metadata": {},
   "outputs": [],
   "source": []
  }
 ],
 "metadata": {
  "kernelspec": {
   "display_name": "ml-0451",
   "language": "python",
   "name": "python3"
  },
  "language_info": {
   "codemirror_mode": {
    "name": "ipython",
    "version": 3
   },
   "file_extension": ".py",
   "mimetype": "text/x-python",
   "name": "python",
   "nbconvert_exporter": "python",
   "pygments_lexer": "ipython3",
   "version": "3.11.7"
  }
 },
 "nbformat": 4,
 "nbformat_minor": 2
}
